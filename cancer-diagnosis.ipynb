{
 "cells": [
  {
   "cell_type": "markdown",
   "metadata": {},
   "source": [
    "# 1. About the Problem (i.e Business Problem)\n",
    "Once sequenced, a cancer tumor can have thousands of genetic mutations. But the challenge is distinguishing the mutations that contribute to tumor growth (drivers) from the neutral mutations (passengers). \n",
    "\n",
    "Currently this interpretation of genetic mutations is being done manually. This is a very time-consuming task where a clinical pathologist has to manually review and classify every single genetic mutation based on evidence from text-based clinical literature.\n",
    "\n",
    "For this competition MSKCC is making available an expert-annotated knowledge base where world-class researchers and oncologists have manually annotated thousands of mutations.\n",
    "\n",
    "We need your help to develop a Machine Learning algorithm that, using this knowledge base as a baseline, automatically classifies genetic variations."
   ]
  },
  {
   "cell_type": "markdown",
   "metadata": {},
   "source": [
    "## 1.1. Source:\n",
    "[https://www.kaggle.com/c/msk-redefining-cancer-treatment/discussion/35336#198462](https://www.kaggle.com/c/msk-redefining-cancer-treatment/discussion/35336#198462)\n",
    "\n",
    "## 1.2. Problem statement :\n",
    "\n",
    "Classify the given genetic variations/mutations based on evidence from text-based clinical literature.\n",
    "\n",
    "## Objectives\n",
    "* To collect Data Set  of cancer patients in order to preprocess the data to get useful information .\n",
    "* To Extract Feature to classify cancer classes .\n",
    "* Errors can be costly.\n",
    "* To train the Model using ML and model evaluation on held-out data."
   ]
  },
  {
   "cell_type": "markdown",
   "metadata": {},
   "source": [
    "# 2. Problem Formulation"
   ]
  },
  {
   "cell_type": "markdown",
   "metadata": {},
   "source": [
    "### 2.1. Data Overview\n",
    "#### Two data files-\n",
    "1. training_variants (ID , Gene, Variations, Class)- It conatins the information about the genetic mutations.\n",
    "2. training_text (ID, Text)- It contains the clinical evidence (text) that human experts/pathologists use to classify the genetic mutations. "
   ]
  },
  {
   "cell_type": "markdown",
   "metadata": {},
   "source": [
    "### 2.2. Mapping the real world problem into ML problem\n",
    "#### 2.2.1. Type of ML problem\n",
    "```\n",
    "    There are nine different classes a genetic mutation can be classified into => Multi class classification problem\n",
    "```\n",
    "\n",
    "#### 2.2.2. Performance Metric\n",
    "Source: [https://www.kaggle.com/c/msk-redefining-cancer-treatment/overview/evaluation](https://www.kaggle.com/c/msk-redefining-cancer-treatment/overview/evaluation)\n",
    "+ Multi class log-loss\n",
    "+ Confusion Matrix\n",
    "\n",

   ]
  },
  {
   "cell_type": "markdown",
   "metadata": {},
   "source": [
    "# 3. Exploratory Data Analysis"
   ]
  },
  {
   "cell_type": "markdown",
   "metadata": {},
   "source": [
    "## 3.1. Reading Data"
   ]
  },
  {
   "cell_type": "markdown",
   "metadata": {},
   "source": [
    "### 3.1.1. Reading Text Data"
   ]
  },
  {
   "cell_type": "code",
   "execution_count": 61,
   "metadata": {},
   "outputs": [],
   "source": [
    "import pandas as pd\n",
    "# Since the separators for each ID and Text is \"||\", so need to mention separators\n",
    "data_text = pd.read_csv(\"training/training_text\",sep=\"\\|\\|\",engine=\"python\",names=[\"ID\",\"TEXT\"],skiprows=1)"
   ]
  },
  {
   "cell_type": "markdown",
   "metadata": {},
   "source": [
    "#### Example data text point"
   ]
  },
  {
   "cell_type": "code",
   "execution_count": 62,
   "metadata": {},
   "outputs": [
    {
     "data": {
      "text/html": [
       "<div>\n",
       "<style scoped>\n",
       "    .dataframe tbody tr th:only-of-type {\n",
       "        vertical-align: middle;\n",
       "    }\n",
       "\n",
       "    .dataframe tbody tr th {\n",
       "        vertical-align: top;\n",
       "    }\n",
       "\n",
       "    .dataframe thead th {\n",
       "        text-align: right;\n",
       "    }\n",
       "</style>\n",
       "<table border=\"1\" class=\"dataframe\">\n",
       "  <thead>\n",
       "    <tr style=\"text-align: right;\">\n",
       "      <th></th>\n",
       "      <th>ID</th>\n",
       "      <th>TEXT</th>\n",
       "    </tr>\n",
       "  </thead>\n",
       "  <tbody>\n",
       "    <tr>\n",
       "      <th>0</th>\n",
       "      <td>0</td>\n",
       "      <td>Cyclin-dependent kinases (CDKs) regulate a var...</td>\n",
       "    </tr>\n",
       "    <tr>\n",
       "      <th>1</th>\n",
       "      <td>1</td>\n",
       "      <td>Abstract Background  Non-small cell lung canc...</td>\n",
       "    </tr>\n",
       "    <tr>\n",
       "      <th>2</th>\n",
       "      <td>2</td>\n",
       "      <td>Abstract Background  Non-small cell lung canc...</td>\n",
       "    </tr>\n",
       "    <tr>\n",
       "      <th>3</th>\n",
       "      <td>3</td>\n",
       "      <td>Recent evidence has demonstrated that acquired...</td>\n",
       "    </tr>\n",
       "    <tr>\n",
       "      <th>4</th>\n",
       "      <td>4</td>\n",
       "      <td>Oncogenic mutations in the monomeric Casitas B...</td>\n",
       "    </tr>\n",
       "  </tbody>\n",
       "</table>\n",
       "</div>"
      ],
      "text/plain": [
       "   ID                                               TEXT\n",
       "0   0  Cyclin-dependent kinases (CDKs) regulate a var...\n",
       "1   1   Abstract Background  Non-small cell lung canc...\n",
       "2   2   Abstract Background  Non-small cell lung canc...\n",
       "3   3  Recent evidence has demonstrated that acquired...\n",
       "4   4  Oncogenic mutations in the monomeric Casitas B..."
      ]
     },
     "execution_count": 62,
     "metadata": {},
     "output_type": "execute_result"
    }
   ],
   "source": [
    "data_text.head()"
   ]
  },
  {
   "cell_type": "markdown",
   "metadata": {},
   "source": [
    "##### Dimension of data"
   ]
  },
  {
   "cell_type": "code",
   "execution_count": 63,
   "metadata": {},
   "outputs": [
    {
     "name": "stdout",
     "output_type": "stream",
     "text": [
      "Number of data points :  3321\n",
      "Number of features :  2\n",
      "Features :  ['ID' 'TEXT']\n"
     ]
    }
   ],
   "source": [
    "print('Number of data points : ', data_text.shape[0])  # Returns no. of rows\n",
    "print('Number of features : ', data_text.shape[1])  # Returns no. of columns\n",
    "print('Features : ', data_text.columns.values)  # Returns the column attributes"
   ]
  },
  {
   "cell_type": "markdown",
   "metadata": {},
   "source": [
    "### 3.1.2. Reading Gene and Variation Data"
   ]
  },
  {
   "cell_type": "markdown",
   "metadata": {},
   "source": [
    "### Example data point"
   ]
  },
  {
   "cell_type": "code",
   "execution_count": 64,
   "metadata": {},
   "outputs": [
    {
     "data": {
      "text/html": [
       "<div>\n",
       "<style scoped>\n",
       "    .dataframe tbody tr th:only-of-type {\n",
       "        vertical-align: middle;\n",
       "    }\n",
       "\n",
       "    .dataframe tbody tr th {\n",
       "        vertical-align: top;\n",
       "    }\n",
       "\n",
       "    .dataframe thead th {\n",
       "        text-align: right;\n",
       "    }\n",
       "</style>\n",
       "<table border=\"1\" class=\"dataframe\">\n",
       "  <thead>\n",
       "    <tr style=\"text-align: right;\">\n",
       "      <th></th>\n",
       "      <th>ID</th>\n",
       "      <th>Gene</th>\n",
       "      <th>Variation</th>\n",
       "      <th>Class</th>\n",
       "    </tr>\n",
       "  </thead>\n",
       "  <tbody>\n",
       "    <tr>\n",
       "      <th>0</th>\n",
       "      <td>0</td>\n",
       "      <td>FAM58A</td>\n",
       "      <td>Truncating Mutations</td>\n",
       "      <td>1</td>\n",
       "    </tr>\n",
       "    <tr>\n",
       "      <th>1</th>\n",
       "      <td>1</td>\n",
       "      <td>CBL</td>\n",
       "      <td>W802*</td>\n",
       "      <td>2</td>\n",
       "    </tr>\n",
       "    <tr>\n",
       "      <th>2</th>\n",
       "      <td>2</td>\n",
       "      <td>CBL</td>\n",
       "      <td>Q249E</td>\n",
       "      <td>2</td>\n",
       "    </tr>\n",
       "    <tr>\n",
       "      <th>3</th>\n",
       "      <td>3</td>\n",
       "      <td>CBL</td>\n",
       "      <td>N454D</td>\n",
       "      <td>3</td>\n",
       "    </tr>\n",
       "    <tr>\n",
       "      <th>4</th>\n",
       "      <td>4</td>\n",
       "      <td>CBL</td>\n",
       "      <td>L399V</td>\n",
       "      <td>4</td>\n",
       "    </tr>\n",
       "  </tbody>\n",
       "</table>\n",
       "</div>"
      ],
      "text/plain": [
       "   ID    Gene             Variation  Class\n",
       "0   0  FAM58A  Truncating Mutations      1\n",
       "1   1     CBL                 W802*      2\n",
       "2   2     CBL                 Q249E      2\n",
       "3   3     CBL                 N454D      3\n",
       "4   4     CBL                 L399V      4"
      ]
     },
     "execution_count": 64,
     "metadata": {},
     "output_type": "execute_result"
    }
   ],
   "source": [
    "data = pd.read_csv('training/training_variants')\n",
    "data.head()"
   ]
  },
  {
   "cell_type": "markdown",
   "metadata": {},
   "source": [
    "##### Dimension of data"
   ]
  },
  {
   "cell_type": "code",
   "execution_count": 65,
   "metadata": {},
   "outputs": [
    {
     "name": "stdout",
     "output_type": "stream",
     "text": [
      "Number of data points :  3321\n",
      "Number of features :  4\n",
      "Features :  ['ID' 'Gene' 'Variation' 'Class']\n"
     ]
    }
   ],
   "source": [
    "print('Number of data points : ', data.shape[0])\n",
    "print('Number of features : ', data.shape[1])\n",
    "print('Features : ', data.columns.values)"
   ]
  },
  {
   "cell_type": "markdown",
   "metadata": {},
   "source": [
    "##### Various classes available are"
   ]
  },
  {
   "cell_type": "code",
   "execution_count": 66,
   "metadata": {},
   "outputs": [
    {
     "data": {
      "text/plain": [
       "array([1, 2, 3, 4, 5, 6, 7, 8, 9])"
      ]
     },
     "execution_count": 66,
     "metadata": {},
     "output_type": "execute_result"
    }
   ],
   "source": [
    "data.Class.unique()"
   ]
  },
  {
   "cell_type": "markdown",
   "metadata": {},
   "source": [
    "**training/training_variants** is a comma separated file containing the description of the genetic mutations used for training.\n",
    "Fields are-\n",
    "* **ID** : the id of the row used to link the mutation to the clinical evidence\n",
    "* **Gene** : the gene where this genetic mutation is located\n",
    "* **Variation** : the aminoacid change for this mutations\n",
    "* **Class** : 1-9 the class this genetic mutation has been classified on"
   ]
  },
  {
   "cell_type": "markdown",
   "metadata": {},
   "source": [
    "### 3.1.3. Preprocessing of text"
   ]
  },
  {
   "cell_type": "code",
   "execution_count": 67,
   "metadata": {},
   "outputs": [],
   "source": [
    "import re\n",
    "from nltk.corpus import stopwords\n",
    "\n",
    "stop_words = set(stopwords.words('english'))\n",
    "\n",
    "def nlp_preprocessing(total_text, index, column):\n",
    "    \"\"\" takes the text of each row, its column name and the index of the row\n",
    "        do the required text processing and replaces the text with new text \n",
    "        in the particular column and row index \"\"\"\n",
    "    if type(total_text) is not int:\n",
    "        string = ''\n",
    "        # replace special char with space\n",
    "        total_text = re.sub('[^a-zA-Z0-9\\n]', ' ', total_text)\n",
    "        # replace multiple spaces with single space\n",
    "        total_text = re.sub('\\s+', ' ', total_text)\n",
    "        # converting all chars into lowercase\n",
    "        total_text = total_text.lower()\n",
    "        \n",
    "        for word in total_text.split():\n",
    "            # If word is not a stop word then retain the word from data\n",
    "            if not word in stop_words:\n",
    "                string += word + \" \"\n",
    "\n",
    "        data_text[column][index] = string"
   ]
  },
  {
   "cell_type": "markdown",
   "metadata": {},
   "source": [
    "##### Text Preprocessing stage"
   ]
  },
  {
   "cell_type": "code",
   "execution_count": 68,
   "metadata": {},
   "outputs": [
    {
     "name": "stderr",
     "output_type": "stream",
     "text": [
      "/usr/lib/python3.7/site-packages/ipykernel_launcher.py:24: SettingWithCopyWarning: \n",
      "A value is trying to be set on a copy of a slice from a DataFrame\n",
      "\n",
      "See the caveats in the documentation: http://pandas.pydata.org/pandas-docs/stable/indexing.html#indexing-view-versus-copy\n"
     ]
    },
    {
     "name": "stdout",
     "output_type": "stream",
     "text": [
      "There is no text description for id  1109\n",
      "There is no text description for id  1277\n",
      "There is no text description for id  1407\n",
      "There is no text description for id  1639\n",
      "There is no text description for id  2755\n",
      "Time taken for processing the entire text is  222.77968049049377 seconds\n"
     ]
    }
   ],
   "source": [
    "import time\n",
    "start_time = time.time()\n",
    "\n",
    "for index, row in data_text.iterrows():\n",
    "    if type(row['TEXT']) is str:\n",
    "        nlp_preprocessing(row['TEXT'], index, 'TEXT')\n",
    "    else:\n",
    "        print(\"There is no text description for id \", index)\n",
    "\n",
    "print(\"Time taken for processing the entire text is \", time.time()-start_time, \"seconds\")"
   ]
  },
  {
   "cell_type": "markdown",
   "metadata": {},
   "source": [
    "### Merging both Dataframes"
   ]
  },
  {
   "cell_type": "code",
   "execution_count": 69,
   "metadata": {},
   "outputs": [
    {
     "data": {
      "text/html": [
       "<div>\n",
       "<style scoped>\n",
       "    .dataframe tbody tr th:only-of-type {\n",
       "        vertical-align: middle;\n",
       "    }\n",
       "\n",
       "    .dataframe tbody tr th {\n",
       "        vertical-align: top;\n",
       "    }\n",
       "\n",
       "    .dataframe thead th {\n",
       "        text-align: right;\n",
       "    }\n",
       "</style>\n",
       "<table border=\"1\" class=\"dataframe\">\n",
       "  <thead>\n",
       "    <tr style=\"text-align: right;\">\n",
       "      <th></th>\n",
       "      <th>ID</th>\n",
       "      <th>Gene</th>\n",
       "      <th>Variation</th>\n",
       "      <th>Class</th>\n",
       "      <th>TEXT</th>\n",
       "    </tr>\n",
       "  </thead>\n",
       "  <tbody>\n",
       "    <tr>\n",
       "      <th>0</th>\n",
       "      <td>0</td>\n",
       "      <td>FAM58A</td>\n",
       "      <td>Truncating Mutations</td>\n",
       "      <td>1</td>\n",
       "      <td>cyclin dependent kinases cdks regulate variety...</td>\n",
       "    </tr>\n",
       "    <tr>\n",
       "      <th>1</th>\n",
       "      <td>1</td>\n",
       "      <td>CBL</td>\n",
       "      <td>W802*</td>\n",
       "      <td>2</td>\n",
       "      <td>abstract background non small cell lung cancer...</td>\n",
       "    </tr>\n",
       "    <tr>\n",
       "      <th>2</th>\n",
       "      <td>2</td>\n",
       "      <td>CBL</td>\n",
       "      <td>Q249E</td>\n",
       "      <td>2</td>\n",
       "      <td>abstract background non small cell lung cancer...</td>\n",
       "    </tr>\n",
       "    <tr>\n",
       "      <th>3</th>\n",
       "      <td>3</td>\n",
       "      <td>CBL</td>\n",
       "      <td>N454D</td>\n",
       "      <td>3</td>\n",
       "      <td>recent evidence demonstrated acquired uniparen...</td>\n",
       "    </tr>\n",
       "    <tr>\n",
       "      <th>4</th>\n",
       "      <td>4</td>\n",
       "      <td>CBL</td>\n",
       "      <td>L399V</td>\n",
       "      <td>4</td>\n",
       "      <td>oncogenic mutations monomeric casitas b lineag...</td>\n",
       "    </tr>\n",
       "  </tbody>\n",
       "</table>\n",
       "</div>"
      ],
      "text/plain": [
       "   ID    Gene             Variation  Class  \\\n",
       "0   0  FAM58A  Truncating Mutations      1   \n",
       "1   1     CBL                 W802*      2   \n",
       "2   2     CBL                 Q249E      2   \n",
       "3   3     CBL                 N454D      3   \n",
       "4   4     CBL                 L399V      4   \n",
       "\n",
       "                                                TEXT  \n",
       "0  cyclin dependent kinases cdks regulate variety...  \n",
       "1  abstract background non small cell lung cancer...  \n",
       "2  abstract background non small cell lung cancer...  \n",
       "3  recent evidence demonstrated acquired uniparen...  \n",
       "4  oncogenic mutations monomeric casitas b lineag...  "
      ]
     },
     "execution_count": 69,
     "metadata": {},
     "output_type": "execute_result"
    }
   ],
   "source": [
    "result = pd.merge(data, data_text, on='ID', how='left')\n",
    "result.head()"
   ]
  },
  {
   "cell_type": "code",
   "execution_count": 70,
   "metadata": {},
   "outputs": [
    {
     "data": {
      "text/html": [
       "<div>\n",
       "<style scoped>\n",
       "    .dataframe tbody tr th:only-of-type {\n",
       "        vertical-align: middle;\n",
       "    }\n",
       "\n",
       "    .dataframe tbody tr th {\n",
       "        vertical-align: top;\n",
       "    }\n",
       "\n",
       "    .dataframe thead th {\n",
       "        text-align: right;\n",
       "    }\n",
       "</style>\n",
       "<table border=\"1\" class=\"dataframe\">\n",
       "  <thead>\n",
       "    <tr style=\"text-align: right;\">\n",
       "      <th></th>\n",
       "      <th>ID</th>\n",
       "      <th>Gene</th>\n",
       "      <th>Variation</th>\n",
       "      <th>Class</th>\n",
       "      <th>TEXT</th>\n",
       "    </tr>\n",
       "  </thead>\n",
       "  <tbody>\n",
       "    <tr>\n",
       "      <th>1109</th>\n",
       "      <td>1109</td>\n",
       "      <td>FANCA</td>\n",
       "      <td>S1088F</td>\n",
       "      <td>1</td>\n",
       "      <td>NaN</td>\n",
       "    </tr>\n",
       "    <tr>\n",
       "      <th>1277</th>\n",
       "      <td>1277</td>\n",
       "      <td>ARID5B</td>\n",
       "      <td>Truncating Mutations</td>\n",
       "      <td>1</td>\n",
       "      <td>NaN</td>\n",
       "    </tr>\n",
       "    <tr>\n",
       "      <th>1407</th>\n",
       "      <td>1407</td>\n",
       "      <td>FGFR3</td>\n",
       "      <td>K508M</td>\n",
       "      <td>6</td>\n",
       "      <td>NaN</td>\n",
       "    </tr>\n",
       "    <tr>\n",
       "      <th>1639</th>\n",
       "      <td>1639</td>\n",
       "      <td>FLT1</td>\n",
       "      <td>Amplification</td>\n",
       "      <td>6</td>\n",
       "      <td>NaN</td>\n",
       "    </tr>\n",
       "    <tr>\n",
       "      <th>2755</th>\n",
       "      <td>2755</td>\n",
       "      <td>BRAF</td>\n",
       "      <td>G596C</td>\n",
       "      <td>7</td>\n",
       "      <td>NaN</td>\n",
       "    </tr>\n",
       "  </tbody>\n",
       "</table>\n",
       "</div>"
      ],
      "text/plain": [
       "        ID    Gene             Variation  Class TEXT\n",
       "1109  1109   FANCA                S1088F      1  NaN\n",
       "1277  1277  ARID5B  Truncating Mutations      1  NaN\n",
       "1407  1407   FGFR3                 K508M      6  NaN\n",
       "1639  1639    FLT1         Amplification      6  NaN\n",
       "2755  2755    BRAF                 G596C      7  NaN"
      ]
     },
     "execution_count": 70,
     "metadata": {},
     "output_type": "execute_result"
    }
   ],
   "source": [
    "result[result.isnull().any(axis=1)]  # Usually axis=0 is said to be \"column-wise\" (and axis=1 \"row-wise\")"
   ]
  },
  {
   "cell_type": "code",
   "execution_count": 71,
   "metadata": {},
   "outputs": [],
   "source": [
    "# Replacing the Null texts with Gene and Variation values\n",
    "result.loc[result['TEXT'].isnull(),'TEXT'] = result['Gene'] +' '+result['Variation']"
   ]
  },
  {
   "cell_type": "code",
   "execution_count": 72,
   "metadata": {},
   "outputs": [
    {
     "data": {
      "text/html": [
       "<div>\n",
       "<style scoped>\n",
       "    .dataframe tbody tr th:only-of-type {\n",
       "        vertical-align: middle;\n",
       "    }\n",
       "\n",
       "    .dataframe tbody tr th {\n",
       "        vertical-align: top;\n",
       "    }\n",
       "\n",
       "    .dataframe thead th {\n",
       "        text-align: right;\n",
       "    }\n",
       "</style>\n",
       "<table border=\"1\" class=\"dataframe\">\n",
       "  <thead>\n",
       "    <tr style=\"text-align: right;\">\n",
       "      <th></th>\n",
       "      <th>ID</th>\n",
       "      <th>Gene</th>\n",
       "      <th>Variation</th>\n",
       "      <th>Class</th>\n",
       "      <th>TEXT</th>\n",
       "    </tr>\n",
       "  </thead>\n",
       "  <tbody>\n",
       "    <tr>\n",
       "      <th>1407</th>\n",
       "      <td>1407</td>\n",
       "      <td>FGFR3</td>\n",
       "      <td>K508M</td>\n",
       "      <td>6</td>\n",
       "      <td>FGFR3 K508M</td>\n",
       "    </tr>\n",
       "  </tbody>\n",
       "</table>\n",
       "</div>"
      ],
      "text/plain": [
       "        ID   Gene Variation  Class         TEXT\n",
       "1407  1407  FGFR3     K508M      6  FGFR3 K508M"
      ]
     },
     "execution_count": 72,
     "metadata": {},
     "output_type": "execute_result"
    }
   ],
   "source": [
    "result[result['ID']==1407]"
   ]
  },
  {
   "cell_type": "markdown",
   "metadata": {},
   "source": [
    "### 3.1.4. Test, Train and Cross Validation Split"
   ]
  },
  {
   "cell_type": "markdown",
   "metadata": {},
   "source": [
    "#### 3.1.4.1. Splitting data into train, test and cross validation (64:20:16"
   ]
  },
  {
   "cell_type": "code",
   "execution_count": 73,
   "metadata": {},
   "outputs": [],
   "source": [
    "from sklearn.model_selection import train_test_split\n",
    "\n",
    "y_true = result['Class'].values  # Taking Class values into separate dataframe for splitting\n",
    "result.Gene = result.Gene.str.replace('\\s+', '_')  # Replacing multiple spaces with underscores\n",
    "result.Variation = result.Variation.str.replace('\\s+', '_')\n",
    "\n",
    "# Splitting into test and train by maintaining by maintaining same distribution of output variable 'y_true' [stratify=y_true]\n",
    "X_train, test_df, Y_train, y_test = train_test_split(result, y_true, stratify=y_true, test_size=0.2)\n",
    "# Splitting into train and cross validation by maintaining same distribution of output variable 'y_train' [stratify=y_train]\n",
    "train_df, cv_df, y_train, y_cv = train_test_split(X_train, Y_train, stratify=Y_train, test_size=0.2)"
   ]
  },
  {
   "cell_type": "markdown",
   "metadata": {},
   "source": [
    "Data is splitted into train, test and CV by maintaining the ratio of class distribution in the original dataset"
   ]
  },
  {
   "cell_type": "code",
   "execution_count": 74,
   "metadata": {},
   "outputs": [
    {
     "name": "stdout",
     "output_type": "stream",
     "text": [
      "Number of data points in train data: 2124\n",
      "Number of data points in test data: 665\n",
      "Number of data points in cross validation data: 532\n"
     ]
    }
   ],
   "source": [
    "print('Number of data points in train data:', train_df.shape[0])\n",
    "print('Number of data points in test data:', test_df.shape[0])\n",
    "print('Number of data points in cross validation data:', cv_df.shape[0])"
   ]
  },
  {
   "cell_type": "code",
   "execution_count": 75,
   "metadata": {},
   "outputs": [
    {
     "data": {
      "image/png": "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\n",
      "text/plain": [
       "<Figure size 432x288 with 1 Axes>"
      ]
     },
     "metadata": {
      "needs_background": "light"
     },
     "output_type": "display_data"
    },
    {
     "name": "stdout",
     "output_type": "stream",
     "text": [
      "Number of datapoints in class 7 609 : 28.672 %\n",
      "Number of datapoints in class 4 439 : 20.669 %\n",
      "Number of datapoints in class 1 363 : 17.09 %\n",
      "Number of datapoints in class 2 289 : 13.606 %\n",
      "Number of datapoints in class 6 176 : 8.286 %\n",
      "Number of datapoints in class 5 155 : 7.298 %\n",
      "Number of datapoints in class 3 57 : 2.684 %\n",
      "Number of datapoints in class 9 24 : 1.13 %\n",
      "Number of datapoints in class 8 12 : 0.565 %\n",
      "================================================================================\n"
     ]
    },
    {
     "data": {
      "image/png": "iVBORw0KGgoAAAANSUhEUgAAAYUAAAETCAYAAADZHBoWAAAABHNCSVQICAgIfAhkiAAAAAlwSFlzAAALEgAACxIB0t1+/AAAADh0RVh0U29mdHdhcmUAbWF0cGxvdGxpYiB2ZXJzaW9uMy4xLjAsIGh0dHA6Ly9tYXRwbG90bGliLm9yZy+17YcXAAAgAElEQVR4nO3de5gkZXn38e+PYTn2cgpksjLAQgQi8MrqjIBRTE9Qg4SIhwTBsKCgKwkGA4xBkSi8SmJ0PGDwhAE5KaOCCvKiQggtEiGygwssIroQDrMuC8tp6QUEhvv9o55pesee7prd7q5h9/e5rr6m6qmnnrq7qqfurqcOrYjAzMwMYIOiAzAzs5nDScHMzGqcFMzMrMZJwczMapwUzMysxknBzMxqnBQMSV+R9M9tamtHSVVJPWm8Iuk97Wg7tfdDSUe1q71pLPcTklZIemCa8622PhpMv11SuS1BdpGk8yR9oug4rP2cFNZxku6R9JSkJyQ9Julnko6VVNv2EXFsRHw8Z1uvb1YnIu6LiFJEjLch9tMkXTSp/TdFxPlr2/Y049gROAnYIyL+aDrztlofEbFnRFTWMK6Q9NI1mXdSO7+3ntup3V8Mil7Ous5JYf3wVxExG9gJ+CRwMnBOuxciacN2tzlD7Ag8HBEPFh2IWcdFhF/r8Au4B3j9pLJ9gOeBvdL4ecAn0vC2wBXAY8AjwE/JvjxcmOZ5CqgC/wTMBQI4BrgPuK6ubMPUXgX4V+DnwErgMmCbNK0MjDWKFzgQeAZ4Ni3vlrr23pOGNwBOBe4FHgQuALZM0ybiOCrFtgL4SJP1tGWa/6HU3qmp/den9/x8iuO8BvMuJku8E+Oz0vJeMXl9NNs+wGnAt1McTwC3AwNTzHddandViusdqfxgYFHafj8DXl43z8nA0tT2ncABU63nBst7BXBzmvdbwEjdZ2br9Jl5CHg0DfelaWcA48DTqf2zUvmZwP3pMzEK7D/p87kwTVsOfLZu2n7pfT0G3AKUmy3HrzXYZxQdgF8d3sANkkIqvw/4uzR8Xt0/+L8CX0k7tlnA/oAatVW3w7sA2BzYdPJOkGwnvhTYK9W5FLgoTSszRVJIw6dN1K2bXuGFpHA0sATYBSgB3wUunBTb11JcewO/A142xXq6gCxhzU7z/ho4Zqo4J837T8C36sYPAW6bFEfepPA0cBDQk7bFjU2WG8BL68ZfQZYc903zH5Xa3xjYnWwn/JK6uP54qvU8aTkbkSXKE9Jn4q/JksjEZ+YPgLcDm6X19x3g+422WV3ZEWm+Dcm65h4ANknTbgDmp+ESsF8a3h54OK2fDYA3pPHtplqOX9N/ufto/fVbYJsG5c8Cc4CdIuLZiPhppP+4Jk6LiFUR8dQU0y+MiMURsQr4Z+DQqU68TtPfkn2LvDsiqsCHgcMmdWOdHhFPRcQtZN8s957cSIrlMODDEfFERNwDfAaYnzOOi4CDJG2RxueTHVmtiesj4srIzkFc2CjeJhYAX42I/4mI8cjOvfyO7Nv1OFly2EPSrIi4JyLuytnufmTJ4PPpM3EJcNPExIh4OCIujYgnI+IJsm/tf9aswYi4KM33XER8hhcSF2SfwZdK2jYiqhFxYyo/ArgyrZ/nI+JqsiOKg3K+D8vBSWH9tT1Z99Bknyb79n2VpLslfShHW/dPY/q9ZDuYbXNF2dxLUnv1bW8I9NaV1V8t9CTZN8/Jtk0xTW5r+zxBRMRvgf8G3i5pK+BNwDfyzNvA5Hg3mca5mp2Ak9IFBY9JegzYgezoYAnwj2RHBQ9KGpH0kpztvgRYOunLQW1dSdpM0lcl3StpJVnX1lbNEr+kIUl3SHo8xbklL3wmjgF2A34l6SZJB9e9v7+Z9P5eS/YlxtrESWE9JOlVZDu86ydPS9+UT4qIXYA3AydKOmBi8hRNtjqS2KFueEeyb4IryPrDN6uLqwfYbhrt/pZsR1Hf9nNk/dDTsSLFNLmtpdNo43yyb7J/A9wQEdOZt13uB86IiK3qXptFxMUAEfHNiHgt2fsM4N/SfK3W8zJge0mqK9uxbvgksm/5+0bEFsDrUvlE/dXal7Q/WZfbocDWEbEV8PhE/Yj4TUQcDvxhivESSZun93fhpPe3eUR8Muf7sBycFNYjkrZI37pGyPqQb2tQ52BJL007gMfJuh2eT5OXk/XfT9cRkvaQtBnwf4FLUvfIr8m+Cf+lpFlkJ3c3rptvOTC3/vLZSS4GTpC0s6QS8C9kffvPTSe4FMu3gTMkzZa0E3AiWbdQXt8HXgl8gOz8RDdM3h5fA46VtK8ym6d1O1vS7pL+XNLGZOctJk6eT7TTbD3fQJZsj5c0S9LbyE4GT5id2ntM0jbAx1rEOTu19xCwoaSPAhNdb0g6QtJ2EfE82QllUqwXAX8l6S8k9UjaRFJZUt8Uy7E14KSwfviBpCfIvml9BPgs8O4p6u4K/CfZFRw3AF+KiGvTtH8FTk2H7kPTWP6FZCezHwA2AY4HiIjHgb8H/oPsW/kqYKxuvu+kvw9LurlBu+emtq8D/pdsZ/cP04ir3j+k5d9NdgT1zdR+Lul8yqXAzmQnvLvhNOD8tD0OjYiFwHuBs8iuAloCvCvV3ZjscuQVZNvhD8nOwUCL9RwRzwBvS209AryD1d/j58lO5q8AbgR+NKmJM4G/lvSopC8AP051fk3WDfU0q3cxHgjcLqma5j0snRe6n+wk/ilkCeV+4IO8sB+bvBxbAxNXlZjZWkrfeHeLiCOKjsVsTa2rNxuZdVXqNjmG/Fcsmc1I7j4yW0uS3kvWlfHDiLiu6HjM1kbHuo8k7UB2wq2X7KqAsyPizPSN6ltkN8/cAxwaEY+mE5tnkl1z/CTwroho1I9sZmYd0skjheeAkyJiD7KbX46TtAfwIeCaiNgVuCaNQ3Zt967ptQD4cgdjMzOzBjqWFCJi2cQ3/XSX4x1k18YfQnZNN+nvW9LwIcAFkbmR7OYX35RiZtZFXTnRLGku2XNZ/gfojYhladIDvHD36fasflnaWCpbxhS23XbbmDt3bltiXLVqFZtvvnlb2moXx5TfTIzLMeXjmPJrV1yjo6MrImK7RtM6nhTSTUWXAv8YESvrb4qMiJA0rZMakhaQdS/R29vL8PBwW+KsVquUSo2egFAcx5TfTIzLMeXjmPJrV1yDg4P3Tjmxk0/bI3uezI+BE+vK7gTmpOE5wJ1p+KvA4Y3qTfXq7++Pdrn22mvb1la7OKb8ZmJcjikfx5Rfu+ICFka3n5KariY6B7gjIj5bN+lyskf6kv5eVld+ZLo9fz/g8Xihm8nMzLqgk91HryG7kec2SYtS2Slkt9p/W9IxZLe4H5qmXUl2OeoSsktSp3oMg5mZdUjHkkJEXM8LT0mc7IDJBemQ5rhOxWNmZq35jmYzM6txUjAzsxonBTMzq3FSMDOzGj8628w6RpVKyzrD1SqDLepFudyWeKw1HymYmVmNk4KZmdU4KZiZWY2TgpmZ1TgpmJlZjZOCmZnVOCmYmVmNk4KZmdU4KZiZWY2TgpmZ1TgpmJlZjZOCmZnVOCmYmVlNx5KCpHMlPShpcV3ZtyQtSq97Jn67WdJcSU/VTftKp+IyM7OpdfLR2ecBZwEXTBRExDsmhiV9Bni8rv5dETGvg/GYmVkLHUsKEXGdpLmNpkkScCjw551avpmZTV9R5xT2B5ZHxG/qynaW9AtJP5G0f0FxmZmt1xQRnWs8O1K4IiL2mlT+ZWBJRHwmjW8MlCLiYUn9wPeBPSNiZYM2FwALAHp7e/tHRkbaEmu1WqVUKrWlrXZxTPnNxLgcE4xWqy3r9I2PM9bT07ROf5fX40zcdtC+uAYHB0cjYqDRtK4nBUkbAkuB/ogYm2K+CjAUEQubtT8wMBALFzatklulUqE8w37yzzHlNxPjckz5f45zqMWOrts/xzkTtx20Ly5JUyaFIrqPXg/8qj4hSNpOUk8a3gXYFbi7gNjMzNZrnbwk9WLgBmB3SWOSjkmTDgMunlT9dcCt6RLVS4BjI+KRTsVmZmaNdfLqo8OnKH9Xg7JLgUs7FYuZmeXjO5rNzKzGScHMzGqcFMzMrMZJwczMapwUzMysxknBzMxqnBTMzKzGScHMzGqcFMzMrMZJwczMapwUzMysxknBzMxqnBTMzKzGScHMzGqcFMzMrMZJwczMapwUzMysxknBzMxqOvkbzedKelDS4rqy0yQtlbQovQ6qm/ZhSUsk3SnpLzoVl5mZTa2TRwrnAQc2KP9cRMxLrysBJO0BHAbsmeb5kqSeDsZmZmYNdCwpRMR1wCM5qx8CjETE7yLif4ElwD6dis3MzBor4pzC+yXdmrqXtk5l2wP319UZS2VmZtZFiojONS7NBa6IiL3SeC+wAgjg48CciDha0lnAjRFxUap3DvDDiLikQZsLgAUAvb29/SMjI22JtVqtUiqV2tJWuzim/GZiXI4JRqvVlnX6xscZ62neW9zf5fU4E7cdtC+uwcHB0YgYaDRtw7VufRoiYvnEsKSvAVek0aXADnVV+1JZozbOBs4GGBgYiHK53JbYKpUK7WqrXRxTfjMxLscEg5VKyzrD1SpDLXZ00eX1OBO3HXQnrq52H0maUzf6VmDiyqTLgcMkbSxpZ2BX4OfdjM3MzHIkBUkfkLSFMudIulnSG3PMdzFwA7C7pDFJxwCfknSbpFuBQeAEgIi4Hfg28EvgR8BxETG+Fu/LzMzWQJ7uo6Mj4sx078DWwHzgQuCqZjNFxOENis9pUv8M4Iwc8ZiZWYfk6T5S+nsQcGH6Vq8m9c3M7EUqT1IYlXQVWVL4saTZwPOdDcvMzIqQp/voGGAecHdEPClpG+DdnQ3LzMyKkOdI4dXAnRHxmKQjgFOBxzsblpmZFSFPUvgy8KSkvYGTgLuACzoalZmZFSJPUngustueDwHOiogvArM7G5aZmRUhzzmFJyR9GDgCeJ2kDYBZnQ3LzMyKkOdI4R3A74BjIuIBskdQfLqjUZmZWSFaHimkRPDZuvH78DkFM7N1UsukIGk/4N+BlwEbAT1ANSK27HBsZlQq+e6TrFaHqVQGm9Yplzv3RGCzdUWe7qOzgMOB3wCbAu8BvtTJoMzMrBi5npIaEUuAnogYj4iv0/hnNs3M7EUuz9VHT0raCFgk6VPAMor5xTYzM+uwPDv3+WTnEd4PrCL7MZy3dzIoMzMrRp6rj+5Ng08Bp3c2HDMzK9KUSUHSbWS/pdxQRLy8IxGZmVlhmh0pHNy1KMzMbEaYMilMdBul30xeFhFPp/FNgd7uhGdmZt2U50Tzd1j9R3XGU1lTks6V9KCkxXVln5b0K0m3SvqepK1S+VxJT0lalF5fme4bMTOztZcnKWwYEc9MjKThjXLMdx6/fz/D1cBe6XzEr4EP1027KyLmpdexOdo3M7M2y5MUHpL05okRSYcAK1rNFBHXAY9MKrsqIp5LozeSPVzPzMxmiDxJ4VjgFEn3SboPOBlY0IZlHw38sG58Z0m/kPQTSfu3oX0zM5smZb+fk6OiVAKIiGruxqW5wBURsdek8o8AA8DbIiIkbQyUIuJhSf3A94E9I2JlgzYXkJJSb29v/8jISN5wmqpWq5RKpba01S6OCarV0Vz1xsf76OkZa1qnVOpvR0i5efvBaLX17qJvfJyxnp6mdfq7vB5n4raD9sU1ODg4GhEDjablTgprolFSkPQu4H3AARHx5BTzVYChiFjYrP2BgYFYuLBpldwqlQrlcrktbbWLY5reU1JLpaGmdbr9lFRvP1Cl0rLOcLXKUIsdXXR5Pc7EbQfti0vSlEmhq88wknQg8E/Am+sTgqTtJPWk4V2AXYG7uxmbmZm1SAqSNpD0p2vSsKSLgRuA3SWNSTqG7DHcs4GrJ116+jrgVkmLgEuAYyPikYYNm5lZxzR99lFEPC/pi8ArpttwRBzeoPicKepeClw63WWYmVl75ek+ukbS2yXl69w1M7MXrTxJ4X1kdzA/I2mlpCck/d5VQWZm9uKX59HZs7sRiJmZFa/lkYIyR0j65zS+g6R9Oh+amZl1W57uoy8BrwbemcarwBc7FpGZmRUmz2807xsRr5T0C4CIeDT9ZrOZma1j8hwpPJtuLAvIbjRj9Udpm5nZOiJPUvgC8D2gV9IZwPXAv3Q0qjaTWr9GR1vXMTNb1+W5+ugbkkaBA1LRWyLijs6GZWZmRchzTgFgM2CiC2nTzoVjZmZFynNJ6keB84FtgG2Br0s6tdOBmZlZ9+U5UvhbYO+IeBpA0ieBRcAnOhmYmZl1X54Tzb8FNqkb3xhY2plwzMysSHmOFB4Hbpd0Ndk5hTcAP5f0BYCIOL6D8ZmZWRflSQrfS68Jlc6EYmZmRctzSer53QjEzMyK19Wf4zQzs5nNScHMzGqmlRTSbzZvMY3650p6UNLiurJtJF0t6Tfp79apXJK+IGmJpFslvXI6sZmZ2drLc/PaNyVtIWlzYDHwS0kfzNn+ecCBk8o+BFwTEbsC16RxgDcBu6bXAuDLOZdhZmZtkudIYY+IWAm8BfghsDMwP0/jEXEd8Mik4kPI7pAm/X1LXfkFkbkR2ErSnDzLMTOz9siTFGZJmkW28748Ip5dy2X2RsSyNPwA0JuGtwfur6s3lsrMzKxLFBHNK0jHAycDtwB/CewIXBQR++dagDQXuCIi9krjj0XEVnXTH42IrSVdAXwyIq5P5dcAJ0fEwkntLSDrXqK3t7d/ZGSkZQyjo63j7OurMjZWalqnv791O+1UrVYplZrH1G3djqlazbHxgPHxPnp6xprWKZW6uwG9/WC0Wm1Zp298nLGenqZ1+ru8HmfitoP2xTU4ODgaEQONpuW5ee0HEfGFiRFJ9wFHr0U8yyXNiYhlqXvowVS+FNihrl4fDR6nERFnA2cDDAwMRLlcbrnAwcHWQQ0PVxgaat5Wi/zZdpVKhTzvr5u6HVOlkmPjAdXqMKXSUNM65XJ3N6C3HwxWKi3rDFerDLXY0UWX1+NM3HbQnbjydB9dWj8S2aFF66/nU7scOCoNHwVcVld+ZLoKaT/g8bpuJjMz64IpjxQk/QmwJ7ClpLfVTdqC1R+QNyVJFwNlYFtJY8DHgE8C35Z0DHAvcGiqfiVwELAEeBJ497TeiZmZrbVm3Ue7AwcDWwF/VVf+BPDePI1HxOFTTDpgckE6AjkuT7tmZtYZUyaFiLgMuEzSqyPihi7GZGZmBclzonmJpFOAufX1I2JtTjabmdkMlCcpXAb8FPhPYLyz4ZiZWZHyJIXNIuLkjkdiZmaFy3NJ6hWSDup4JGZmVrg8SeEDZInhKUkrJT0haWWnA1vnSa1fo6Ot65iZtVGeX16b3Y1AzMyseE1vXouIX031uwYRcXPnwjIzsyI0O1I4kezBc59pMC2AP+9IRGZmVphmN68tSH/zPZHMzMxe9FqeU0i/pfB3wOtSUQX4aht+V8HMzGaYPPcpfBmYBXwpjc9PZe/pVFBmZlaMPEnhVRGxd934f0m6pVMBmZlZcfLcpzAu6Y8nRiTtgh93YWa2TspzpPBB4FpJdwMCdsK/dWBmtk7Kc/PaNZJ2Jft9BYA7I+J3nQ3LzMyKkOfqo02AvwdeS3Z/wk8lfSUinu50cGZm1l15uo8uIPu1tX9P4+8ELgT+plNBmZlZMfIkhb0iYo+68Wsl/XJNFyhpd+BbdUW7AB8l+9nP9wIPpfJTIuLKNV2OmZlNX56rj26WtN/EiKR9gYVrusCIuDMi5kXEPKAfeBL4Xpr8uYlpTghmZt2X50ihH/iZpPvS+I7AnZJuAyIiXr4Wyz8AuCsi7pUfA21mVrg8SeHADi7/MODiuvH3SzqS7EjkpIh4tIPLNjOzSRQRxSxY2gj4LbBnRCyX1AusILvC6ePAnIg4usF8C8ie3kpvb2//yMhIy2WNjraOp6+vythYqWmd/v7W7eSWI6hqXx+lsbHmldoaVGvVapVSqfl6au/ycmw8YHy8j56e5uuqVFq311Ue3Y5ptFptWadvfJyxnp6mdfq7vB5n4raD9sU1ODg4GhEDjaYVmRQOAY6LiDc2mDYXuCIi9mrWxsDAQCxc2Pr0Rp6eqeHhCkND5aZ12rqqcgRVGR6mPDTUvFKXt1+lUqFcLndxefm6FavVYUql5uuqXF6311Ue3Y5JlUrLOsPVKkMtdnTR5fU4E7cdtC8uSVMmhTwnmjvlcOq6jiTNqZv2VmBx1yMyM1vP5Tmn0HaSNgfeALyvrvhTkuaRdR/dM2mamZl1QZ47mvcju3HtZcBGQA+wKiK2WNOFRsQq4A8mlc1f0/bMzKw98nQfnUXW1fMbYFOy31H4YieDMjOzYuQ6pxARS4CeiBiPiK/T2ctUzcysIHnOKTyZLh9dJOlTwDKKPUFtZmYdkmfnPj/Vez+wCtgBeFsngzIzs2LkSQpviYinI2JlRJweEScCB3c6MDMz6748SeGoBmXvanMcZmY2A0x5TkHS4WS/nbCzpMvrJs0GHul0YGZm1n3NTjT/jOyk8rbAZ+rKnwBu7WRQZmZWjCmTQkTcC9wLvLp74ZiZWZFanlOQtJ+kmyRVJT0jaVzSym4EZ2Zm3eU7ms3MrMZ3NJuZWY3vaDYzs5o1vaP57Z0MyszMitHySCEi7pW0XRo+vfMhmZlZUaY8UlDmNEkrgDuBX0t6SNJHuxeemZl1U7PuoxOA1wCviohtImJrYF/gNZJO6Ep0ZmbWVc26j+YDb4iIFRMFEXG3pCOAq4DPdTo4M8uvokrLOtXhKpXB5vXKUW5LPPbi1CwpzKpPCBMi4iFJs9Z2wZLuIXtkxjjwXEQMSNoG+BYwl+x3mg+NiEfXdllmZpZPs+6jZ9Zw2nQMRsS8iBhI4x8CromIXYFr0riZmXVJsyOFvad4nIWATToUzyFAOQ2fD1SAkzu0LDMzm6TZA/F6OrzsAK6SFMBXI+JsoDcilqXpDwC9HY7BzMzqKCKKWbC0fUQslfSHwNXAPwCXR8RWdXUeTVc91c+3AFgA0Nvb2z8yMtJyWaOjrePp66syNlZqWqe/v3U7ueUIqtrXR2lsrHmltgbVWrVapVRqvp7au7wcGw8YH++jp6f5uiqV1vF1NVptWWe8b5yesebf90r97Yt5tNo6pr7xccZ6msfU38X1CN3fdnm1K67BwcHRum771RSWFFYLQjoNqALvBcoRsUzSHKASEbtPNd/AwEAsXLgwR/utYxgerjA0VG5ap62rKkdQleFhykNDzSt1eftVKhXK5XIXl5dj4wHV6jClUvN1VS6v4+sq59VHpaHmO5V2Xn2kSqVlneFqlaEWO7ro4nqE7m+7vNoVl6Qpk0IhzzCStLmk2RPDwBuBxcDlvPDzn0cBlxURn1kzknK9RkdHW9Yxm2nyPBCvE3qB76V/ig2Bb0bEjyTdBHxb0jFkP/BzaEHxmZmtlwpJChFxN7B3g/KHgQO6H5GZmYEfgW1mZnWcFMzMrMZJwczMapwUzMysxknBzMxqnBTMzKzGScHMzGqcFMzMrMZJwczMapwUzMysxknBzMxqnBTMzKzGScHMzGqcFMzMrMZJwczMapwUzMysxknBzMxqnBTMzKzGScHMzGq6nhQk7SDpWkm/lHS7pA+k8tMkLZW0KL0O6nZsZmbruw0LWOZzwEkRcbOk2cCopKvTtM9FxHABMZmZGQUkhYhYBixLw09IugPYvttxmJnZ71NEFLdwaS5wHbAXcCLwLmAlsJDsaOLRBvMsABYA9Pb29o+MjLRczuho61j6+qqMjZWa1unvb91ObjmCqvb1URoba16prUG1Vq1WKZWar6f2Li/HxgPGx/vo6Wm+rkql9qyr0TwfKKCvr4+xFtuvv43brzpabVlnvG+cnrGepnVK/e3bvqPV1jH1jY8z1tM8pv4ufuag+5/zvNoV1+Dg4GhEDDSaVlhSkFQCfgKcERHfldQLrAAC+DgwJyKObtbGwMBALFy4MMeyWsczPFxhaKjctE5bV1WOoCrDw5SHhppX6vL2q1QqlMvlLi4vx8YDqtVhSqXm66pcbs+6Up4PFDA8PMxQi+3Xzv+/iiot61SHq5SGmu9UylFuT0CAKpWWdYarVYZa7Oiii5856P7nPK92xSVpyqRQyNVHkmYBlwLfiIjvAkTE8ogYj4jnga8B+xQRm5nZ+qyIq48EnAPcERGfrSufU1ftrcDibsdmZra+K+Lqo9cA84HbJC1KZacAh0uaR9Z9dA/wvgJiMzNbrxVx9dH1QKNO2Su7HYuZma3OdzSbmVmNk4KZmdUUcU7BZiid3vpSy+Hdhhk8fbBlvfhYcfe/mNma85GCmZnVOCmYmVmNk4KZmdU4KZiZWY2TgpmZ1TgpmJlZjZOCmZnVOCmYmVmNk4KZmdU4KZiZWY2TgpmZ1TgpmJkVTcr3Gh1tXWctOSmYmVmNk4KZmdU4KZjZeqVdvTRt6KmZkWZcUpB0oKQ7JS2R9KGi4zEzW5/MqKQgqQf4IvAmYA/gcEl7FBuVmdn6Y0YlBWAfYElE3B0RzwAjwCEFx2Rmtt5QxMz52URJfw0cGBHvSePzgX0j4v11dRYAC9Lo7sCdbVr8tsCKNrXVLo4pv5kYl2PKxzHl1664doqI7RpNeNH9RnNEnA2c3e52JS2MiIF2t7s2HFN+MzEux5SPY8qvG3HNtO6jpcAOdeN9qczMzLpgpiWFm4BdJe0saSPgMODygmMyM1tvzKjuo4h4TtL7gR8DPcC5EXF7lxbf9i6pNnBM+c3EuBxTPo4pv47HNaNONJuZWbFmWveRmZkVyEnBzMxqnBTMzKzGSWEGkfQnkg6QVJpUfmCBMe0j6VVpeA9JJ0o6qKh4GpF0QdExTCbptWldvbHAGPaVtEUa3lTS6ZJ+IOnfJG1ZUEzHS9qhdc3ukbSRpCMlvT6Nv1PSWZKOkzSrwLh2kTQk6UxJn5V07MT27OhyfaJ5dZLeHRFfL2C5xwPHAXcA84APRMRladrNEfHKAmL6GNlzqDYErgb2Ba4F3gD8OCLOKCCmyZcoCxgE/gsgIt7c7ZgAJP08IvZJw+8l25bfA94I/CAiPllATLcDe6er+s4GngQuAQ5I5W8rIKbHgVXAXcDFwHci4qFuxzEppm+QfcY3Ax4DSsB3ydaTIuKoAtST4GUAAAPoSURBVGI6HjgYuA44CPhFiu2twN9HRKVjC48Iv+pewH0FLfc2oJSG5wILyRIDwC8KjKmH7J9lJbBFKt8UuLWgmG4GLgLKwJ+lv8vS8J8V+Ln5Rd3wTcB2aXhz4LaCYrqjfr1NmraoqPVE1kPxRuAc4CHgR8BRwOyCYro1/d0QWA70pHEV+Dm/rS6OzYBKGt6x0/uDGXWfQrdIunWqSUBvN2Ops0FEVAEi4h5JZeASSTuluIrwXESMA09KuisiVqb4npL0fEExDQAfAD4CfDAiFkl6KiJ+UlA8EzaQtDXZDk+Rvv1GxCpJzxUU0+K6I99bJA1ExEJJuwHPFhRTRMTzwFXAVal75k3A4cAw0PB5PB22QbpZdnOyHfCWwCPAxkBh3UdkSWo8xVECiIj7Ot2ltV4mBbId/18Aj04qF/Cz7ocDwHJJ8yJiEUBEVCUdDJwL/J+CYnpG0mYR8STQP1GY+qMLSQpph/I5Sd9Jf5czMz7HWwKjZJ+hkDQnIpal80NFJfX3AGdKOpXsIWo3SLofuD9NK8Jq6yIiniV7asHlkjYrJiTOAX5FdlT8EeA7ku4G9iN7UnMR/gO4SdL/APsD/wYgaTuyhNUx6+U5BUnnAF+PiOsbTPtmRLyzgJj6yL6ZP9Bg2msi4r8LiGnjiPhdg/JtgTkRcVu3Y2oQy18Cr4mIU4qOpZG0o+uNiP8tMIYtgJ3JkudYRCwvMJbdIuLXRS1/KpJeAhARv5W0FfB6sq7knxcY057Ay4DFEfGrri13fUwKZmbWmC9JNTOzGicFMzOrcVIwy0nSH0kakXSXpFFJV0raTdLiomMza5eZcNWG2YwnSWQ3o50fEYelsr0p7hJms47wkYJZPoPAsxHxlYmCiLiF7PJOACTNlfRTSTen15+m8jmSrpO0SNJiSftL6pF0Xhq/TdIJ3X9LZr/PRwpm+exFdh9CMw8Cb4iIpyXtSvYYhwHgnaTHgkiauEN8HrB9ROwFkC6DNCuck4JZ+8wCzpI0j+xO1N1S+U3AuelO1O+nu7DvBnaR9O/A/yO7w9escO4+Msvnduru6p7CCWTPztmb7AhhI4CIuA54HbAUOE/SkRHxaKpXAY4lu4PVrHBOCmb5/BewsaQFEwWSXg7UPwZ6S2BZehTHfLLHJpCeX7U8Ir5GtvN/ZborfIOIuBQ4Fej6U3DNGnH3kVkOERGS3gp8XtLJwNPAPcA/1lX7EnCppCPJnvy5KpWXgQ9KehaoAkcC2wNflzTxxezDHX8TZjn4MRdmZlbj7iMzM6txUjAzsxonBTMzq3FSMDOzGicFMzOrcVIwM7MaJwUzM6txUjAzs5r/Dwb1yHyvSM0vAAAAAElFTkSuQmCC\n",
      "text/plain": [
       "<Figure size 432x288 with 1 Axes>"
      ]
     },
     "metadata": {
      "needs_background": "light"
     },
     "output_type": "display_data"
    },
    {
     "name": "stdout",
     "output_type": "stream",
     "text": [
      "Number of datapoints in class 7 191 : 28.722 %\n",
      "Number of datapoints in class 4 137 : 20.602 %\n",
      "Number of datapoints in class 1 114 : 17.143 %\n",
      "Number of datapoints in class 2 91 : 13.684 %\n",
      "Number of datapoints in class 6 55 : 8.271 %\n",
      "Number of datapoints in class 5 48 : 7.218 %\n",
      "Number of datapoints in class 3 18 : 2.707 %\n",
      "Number of datapoints in class 9 7 : 1.053 %\n",
      "Number of datapoints in class 8 4 : 0.602 %\n",
      "================================================================================\n"
     ]
    },
    {
     "data": {
      "image/png": "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\n",
      "text/plain": [
       "<Figure size 432x288 with 1 Axes>"
      ]
     },
     "metadata": {
      "needs_background": "light"
     },
     "output_type": "display_data"
    },
    {
     "name": "stdout",
     "output_type": "stream",
     "text": [
      "Number of datapoints in class 7 153 : 28.759 %\n",
      "Number of datapoints in class 4 110 : 20.677 %\n",
      "Number of datapoints in class 1 91 : 17.105 %\n",
      "Number of datapoints in class 2 72 : 13.534 %\n",
      "Number of datapoints in class 6 44 : 8.271 %\n",
      "Number of datapoints in class 5 39 : 7.331 %\n",
      "Number of datapoints in class 3 14 : 2.632 %\n",
      "Number of datapoints in class 9 6 : 1.128 %\n",
      "Number of datapoints in class 8 3 : 0.564 %\n"
     ]
    }
   ],
   "source": [
    "import matplotlib.pyplot as plt\n",
    "import numpy as np\n",
    "from itertools import cycle, islice  # To get colored bar graphs\n",
    "\n",
    "# sort_index() returns a dictionary, with keys as the class labels and no. of data points\n",
    "# in that class as values\n",
    "\n",
    "train_class_distribution = train_df['Class'].value_counts().sort_index()\n",
    "test_class_distribution = test_df['Class'].value_counts().sort_index()\n",
    "cv_class_distribution = cv_df['Class'].value_counts().sort_index()\n",
    "\n",
    "my_colors = list(islice(cycle(['b', 'r', 'g', 'y', 'k', 'm', 'c']), None, len(train_class_distribution)))  # Gets list of colors\n",
    "\n",
    "train_class_distribution.plot(kind='bar', color=my_colors)\n",
    "plt.xlabel('Class')\n",
    "plt.ylabel('Data points per class')\n",
    "plt.title('Distribution of yi in train dataset')\n",
    "plt.grid()\n",
    "plt.show()\n",
    "\n",
    "# (-train_class_distribution.values) gives the sorting in descending order\n",
    "sorted_yi = np.argsort(-train_class_distribution.values)  # We get the indices of sorted values in decreasing order\n",
    "\n",
    "for i in sorted_yi:\n",
    "    print('Number of datapoints in class', i+1, train_class_distribution.values[i], ':', np.round((train_class_distribution.values[i]/train_df.shape[0]*100), 3), '%')\n",
    "\n",
    "print('='*80)  #####################################################################################\n",
    "\n",
    "my_colors = list(islice(cycle(['b', 'r', 'g', 'y', 'k', 'm', 'c']), None, len(test_class_distribution)))  # Gets list of colors\n",
    "\n",
    "test_class_distribution.plot(kind='bar', color=my_colors)\n",
    "plt.xlabel('Class')\n",
    "plt.ylabel('Data points per class')\n",
    "plt.title('Distribution of yi in test dataset')\n",
    "plt.grid()\n",
    "plt.show()\n",
    "\n",
    "# (-test_class_distribution.values) gives the sorting in descending order\n",
    "sorted_yi = np.argsort(-test_class_distribution.values)  # We get the indices of sorted values in decreasing order\n",
    "\n",
    "for i in sorted_yi:\n",
    "    print('Number of datapoints in class', i+1, test_class_distribution.values[i], ':', np.round((test_class_distribution.values[i]/test_df.shape[0]*100), 3), '%')\n",
    "\n",
    "print('='*80)  #######################################################################################\n",
    "\n",
    "\n",
    "my_colors = list(islice(cycle(['b', 'r', 'g', 'y', 'k', 'm', 'c']), None, len(cv_class_distribution)))  # Gets list of colors\n",
    "\n",
    "cv_class_distribution.plot(kind='bar', color=my_colors)\n",
    "plt.xlabel('Class')\n",
    "plt.ylabel('Data points per class')\n",
    "plt.title('Distribution of yi in cross validation dataset')\n",
    "plt.grid()\n",
    "plt.show()\n",
    "\n",
    "# (-train_class_distribution.values) gives the sorting in descending order\n",
    "sorted_yi = np.argsort(-cv_class_distribution.values)  # We get the indices of sorted values in decreasing order\n",
    "\n",
    "for i in sorted_yi:\n",
    "    print('Number of datapoints in class', i+1, cv_class_distribution.values[i], ':', np.round((cv_class_distribution.values[i]/cv_df.shape[0]*100), 3), '%')"
   ]
  },
  {
   "cell_type": "markdown",
   "metadata": {},
   "source": [
    "### Takeaways-\n",
    "1. Imbalanced data\n",
    "2. (7, 4, 1, 2) are dominating classes\n",
    "3. Train, Test, CV have similar distribution of yi"
   ]
  },
  {
   "cell_type": "markdown",
   "metadata": {},
   "source": [
    "## 3.2. Prediction using a random model\n",
    "##### In a 'Random' Model, we generate the NINE class probabilites randomly such that they sum to 1. "
   ]
  },
  {
   "cell_type": "code",
   "execution_count": 76,
   "metadata": {},
   "outputs": [],
   "source": [
    "from sklearn.metrics import confusion_matrix\n",
    "import seaborn as sns\n",
    "\n",
    "def plot_confusion_matrix(test_y, predict_y):\n",
    "    C = confusion_matrix(test_y, predict_y)\n",
    "        # C = 9,9 matrix, each cell (i,j) represents number of points of class i are predicted class j\n",
    "    \n",
    "    A =(((C.T)/(C.sum(axis=1))).T)  # Recall Matrix\n",
    "    #divide each element of the confusion matrix with the sum of elements in that column\n",
    "    \n",
    "    # C = [[1, 2],\n",
    "    #     [3, 4]]\n",
    "    # C.T = [[1, 3],\n",
    "    #        [2, 4]]\n",
    "    # C.sum(axis = 1)  axis=0 corresonds to columns and axis=1 corresponds to rows in two diamensional array\n",
    "    # C.sum(axix =1) = [[3, 7]]\n",
    "    # ((C.T)/(C.sum(axis=1))) = [[1/3, 3/7]\n",
    "    #                           [2/3, 4/7]]\n",
    "\n",
    "    # ((C.T)/(C.sum(axis=1))).T = [[1/3, 2/3]\n",
    "    #                           [3/7, 4/7]]\n",
    "    # sum of row elements = 1\n",
    "    \n",
    "    B =(C/C.sum(axis=0))  # Precision Matrix\n",
    "    #divid each element of the confusion matrix with the sum of elements in that row\n",
    "    # C = [[1, 2],\n",
    "    #     [3, 4]]\n",
    "    # C.sum(axis = 0)  axis=0 corresonds to columns and axis=1 corresponds to rows in two diamensional array\n",
    "    # C.sum(axix =0) = [[4, 6]]\n",
    "    # (C/C.sum(axis=0)) = [[1/4, 2/6],\n",
    "    #                      [3/4, 4/6]] \n",
    "    \n",
    "    labels = [1,2,3,4,5,6,7,8,9]\n",
    "    # representing C (Confusion Matrix) in heatmap format\n",
    "    print(\"-\"*20, \"Confusion matrix\", \"-\"*20)\n",
    "    plt.figure(figsize=(20, 7))\n",
    "    sns.heatmap(C, annot=True, cmap=\"YlGnBu\", fmt=\".3f\", xticklabels=labels, yticklabels=labels)\n",
    "    plt.xlabel('Predicted Class')\n",
    "    plt.ylabel('Original Class')\n",
    "    plt.show()\n",
    "\n",
    "    # representing B (Precision Matrix) in heatmap format\n",
    "    print(\"-\"*20, \"Precision matrix\", \"-\"*20)\n",
    "    plt.figure(figsize=(20, 7))\n",
    "    sns.heatmap(B, annot=True, cmap=\"YlGnBu\", fmt=\".3f\", xticklabels=labels, yticklabels=labels)\n",
    "    plt.xlabel('Predicted Class')\n",
    "    plt.ylabel('Original Class')\n",
    "    plt.show()\n",
    "    \n",
    "    # representing A (Recall Matrix) in heatmap format\n",
    "    print(\"-\"*20, \"Recall matrix\", \"-\"*20)\n",
    "    plt.figure(figsize=(20, 7))\n",
    "    sns.heatmap(A, annot=True, cmap=\"YlGnBu\", fmt=\".3f\", xticklabels=labels, yticklabels=labels)\n",
    "    plt.xlabel('Predicted Class')\n",
    "    plt.ylabel('Original Class')\n",
    "    plt.show()"
   ]
  },
  {
   "cell_type": "code",
   "execution_count": 77,
   "metadata": {},
   "outputs": [
    {
     "name": "stdout",
     "output_type": "stream",
     "text": [
      "Log loss on CV data using random model 2.401703235625778\n",
      "Log loss on Test data using random model 2.44865456370503\n",
      "-------------------- Confusion matrix --------------------\n"
     ]
    },
    {
     "data": {
      "image/png": "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\n",
      "text/plain": [
       "<Figure size 1440x504 with 2 Axes>"
      ]
     },
     "metadata": {
      "needs_background": "light"
     },
     "output_type": "display_data"
    },
    {
     "name": "stdout",
     "output_type": "stream",
     "text": [
      "-------------------- Precision matrix --------------------\n"
     ]
    },
    {
     "data": {
      "image/png": "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\n",
      "text/plain": [
       "<Figure size 1440x504 with 2 Axes>"
      ]
     },
     "metadata": {
      "needs_background": "light"
     },
     "output_type": "display_data"
    },
    {
     "name": "stdout",
     "output_type": "stream",
     "text": [
      "-------------------- Recall matrix --------------------\n"
     ]
    },
    {
     "data": {
      "image/png": "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\n",
      "text/plain": [
       "<Figure size 1440x504 with 2 Axes>"
      ]
     },
     "metadata": {
      "needs_background": "light"
     },
     "output_type": "display_data"
    }
   ],
   "source": [
    "from sklearn.metrics.classification import log_loss\n",
    "\n",
    "# we need to generate 9 numbers and the sum of numbers should be 1\n",
    "# Each number is a probabilistic value for each class\n",
    "# one solution is to genarate 9 numbers and divide each of the numbers by their sum\n",
    "\n",
    "test_data_len = test_df.shape[0]  # No. of rows in test dataframe\n",
    "cv_data_len = cv_df.shape[0]  # No. of rows in cv dataframe\n",
    "\n",
    "# Gives a matrix, for each row in cv_df with 9 columns, for each classes one column is there\n",
    "cv_predicted_y = np.zeros((cv_data_len, 9))\n",
    "for i in range(cv_data_len):\n",
    "    rand_probs = np.random.rand(1,9)  # array([[0.1173017 , 0.75339712, 0.87419797, 0.67174377, 0.30238956, 0.22311217, 0.66087963, 0.83912424, 0.76590687]])\n",
    "    cv_predicted_y[i] = ((rand_probs/sum(sum(rand_probs)))[0])  # Consider the twice sum as single sum as rand_probs is list inside list\n",
    "print(\"Log loss on CV data using random model\", log_loss(y_cv, cv_predicted_y, eps=1e-15))\n",
    "\n",
    "# Create a matrix same as CV with each row has 9 attributes for each class probabilities\n",
    "# The matrix has the same no. of rows as the no. of rows in test data\n",
    "test_predicted_y = np.zeros((test_data_len, 9))\n",
    "for i in range(test_data_len):\n",
    "    rand_probs = np.random.rand(1,9)\n",
    "    test_predicted_y[i] = ((rand_probs/sum(sum(rand_probs)))[0])\n",
    "print(\"Log loss on Test data using random model\", log_loss(y_test, test_predicted_y, eps=1e-15))\n",
    "\n",
    "predicted_y = np.argmax(test_predicted_y, axis=1)  # Returns index for each row with maximum probabilistic value\n",
    "plot_confusion_matrix(y_test, predicted_y+1) # To the indexm if we add 1, we'll get the class label"
   ]
  },
  {
   "cell_type": "markdown",
   "metadata": {},
   "source": [
    "## 3.2 Univariate Analysis"
   ]
  },
  {
   "cell_type": "code",
   "execution_count": 78,
   "metadata": {},
   "outputs": [],
   "source": [
    "# We are Converting each feature 'Gene' or 'Variation' into a vector of numerical values,\n",
    "# so that we can process them later easily.\n",
    "\n",
    "# code for response coding with Laplace smoothing.\n",
    "# alpha : used for laplace smoothing\n",
    "# feature: ['gene', 'variation']\n",
    "# df: ['train_df', 'test_df', 'cv_df']\n",
    "# algorithm\n",
    "# ----------\n",
    "# Consider all unique values and the number of occurances of given feature in train data dataframe\n",
    "# build a vector (1*9) , the first element = (number of times it occured in class1 + 10*alpha / number of time it occurred in total data+90*alpha)\n",
    "# gv_dict is like a look up table, for every gene it store a (1*9) representation of it\n",
    "# for a value of feature in df:\n",
    "# if it is in train data:\n",
    "# we add the vector that was stored in 'gv_dict' look up table to 'gv_fea'\n",
    "# if it is not there is train:\n",
    "# we add [1/9, 1/9, 1/9, 1/9,1/9, 1/9, 1/9, 1/9, 1/9] to 'gv_fea'\n",
    "# return 'gv_fea'\n",
    "# ----------------------\n",
    "\n",
    "# get_gv_fea_dict: Get Gene varaition Feature Dict\n",
    "def get_gv_fea_dict(alpha, feature, df):\n",
    "    # value_count: it contains a dict like\n",
    "    # print(train_df['Gene'].value_counts())\n",
    "    # output:\n",
    "    #        {BRCA1      174\n",
    "    #         TP53       106\n",
    "    #         EGFR        86\n",
    "    #         BRCA2       75\n",
    "    #         PTEN        69\n",
    "    #         KIT         61\n",
    "    #         BRAF        60\n",
    "    #         ERBB2       47\n",
    "    #         PDGFRA      46\n",
    "    #         ...}\n",
    "    # print(train_df['Variation'].value_counts())\n",
    "    # output:\n",
    "    # {\n",
    "    # Truncating_Mutations                     63\n",
    "    # Deletion                                 43\n",
    "    # Amplification                            43\n",
    "    # Fusions                                  22\n",
    "    # Overexpression                            3\n",
    "    # E17K                                      3\n",
    "    # Q61L                                      3\n",
    "    # S222D                                     2\n",
    "    # P130S                                     2\n",
    "    # ...\n",
    "    # }\n",
    "    value_count = train_df[feature].value_counts()\n",
    "    \n",
    "    # gv_dict : Gene Variation Dict, which contains the probability array for each gene/variation\n",
    "    gv_dict = dict()\n",
    "    \n",
    "\n",
    "    for i, denominator in value_count.items():\n",
    "        # for a value of feature in df (here i)\n",
    "        # denominator will contain the number of time that particular feature occured in whole training data\n",
    "        # vec will contain (p(yi==1/Gi) probability of gene/variation belongs to perticular class\n",
    "        # vec is 9 diamensional vector\n",
    "        vec = []\n",
    "        for k in range(1,10):\n",
    "            # print(train_df.loc[(train_df['Class']==1) & (train_df['Gene']=='BRCA1')])\n",
    "            #         ID   Gene             Variation  Class  \n",
    "            # 2470  2470  BRCA1                S1715C      1   \n",
    "            # 2486  2486  BRCA1                S1841R      1   \n",
    "            # 2614  2614  BRCA1                   M1R      1   \n",
    "            # 2432  2432  BRCA1                L1657P      1   \n",
    "            # 2567  2567  BRCA1                T1685A      1   \n",
    "            # 2583  2583  BRCA1                E1660G      1   \n",
    "            # 2634  2634  BRCA1                W1718L      1   \n",
    "            # cls_cnt.shape[0] will return the number of rows\n",
    "\n",
    "            cls_cnt = train_df.loc[(train_df['Class']==k) & (train_df[feature]==i)]\n",
    "            \n",
    "            # cls_cnt.shape[0](numerator) will contain the number of time that particular feature occured in whole data\n",
    "            vec.append((cls_cnt.shape[0] + alpha*10)/ (denominator + 90*alpha))\n",
    "\n",
    "        # we are adding the gene/variation to the dict as key and vec as value\n",
    "        gv_dict[i]=vec\n",
    "    return gv_dict\n",
    "\n",
    "# Get Gene variation feature\n",
    "def get_gv_feature(alpha, feature, df):\n",
    "    # print(gv_dict)\n",
    "    #     {'BRCA1': [0.20075757575757575, 0.03787878787878788, 0.068181818181818177, 0.13636363636363635, 0.25, 0.19318181818181818, 0.03787878787878788, 0.03787878787878788, 0.03787878787878788], \n",
    "    #      'TP53': [0.32142857142857145, 0.061224489795918366, 0.061224489795918366, 0.27040816326530615, 0.061224489795918366, 0.066326530612244902, 0.051020408163265307, 0.051020408163265307, 0.056122448979591837], \n",
    "    #      'EGFR': [0.056818181818181816, 0.21590909090909091, 0.0625, 0.068181818181818177, 0.068181818181818177, 0.0625, 0.34659090909090912, 0.0625, 0.056818181818181816], \n",
    "    #      'BRCA2': [0.13333333333333333, 0.060606060606060608, 0.060606060606060608, 0.078787878787878782, 0.1393939393939394, 0.34545454545454546, 0.060606060606060608, 0.060606060606060608, 0.060606060606060608], \n",
    "    #      'PTEN': [0.069182389937106917, 0.062893081761006289, 0.069182389937106917, 0.46540880503144655, 0.075471698113207544, 0.062893081761006289, 0.069182389937106917, 0.062893081761006289, 0.062893081761006289], \n",
    "    #      'KIT': [0.066225165562913912, 0.25165562913907286, 0.072847682119205295, 0.072847682119205295, 0.066225165562913912, 0.066225165562913912, 0.27152317880794702, 0.066225165562913912, 0.066225165562913912], \n",
    "    #      'BRAF': [0.066666666666666666, 0.17999999999999999, 0.073333333333333334, 0.073333333333333334, 0.093333333333333338, 0.080000000000000002, 0.29999999999999999, 0.066666666666666666, 0.066666666666666666],\n",
    "    #      ...\n",
    "    #     }\n",
    "    gv_dict = get_gv_fea_dict(alpha, feature, df)\n",
    "    # value_count is similar in get_gv_fea_dict\n",
    "    value_count = train_df[feature].value_counts()\n",
    "    \n",
    "    # gv_fea: Gene_variation feature, it will contain the feature for each feature value in the data\n",
    "    gv_fea = []\n",
    "    # for every feature values in the given data frame we will check if it is there in the train data then we will add the feature to gv_fea\n",
    "    # if not we will add [1/9,1/9,1/9,1/9,1/9,1/9,1/9,1/9,1/9] to gv_fea\n",
    "    for index, row in df.iterrows():\n",
    "        if row[feature] in dict(value_count).keys():\n",
    "            gv_fea.append(gv_dict[row[feature]])\n",
    "        else:\n",
    "            gv_fea.append([1/9,1/9,1/9,1/9,1/9,1/9,1/9,1/9,1/9])\n",
    "#             gv_fea.append([-1,-1,-1,-1,-1,-1,-1,-1,-1])\n",
    "    return gv_fea"
   ]
  },
  {
   "cell_type": "markdown",
   "metadata": {},
   "source": [
    "### 3.2.1. Univariate Analysis on Gene Feature"
   ]
  },
  {
   "cell_type": "markdown",
   "metadata": {},
   "source": [
    "#### Q1. Gene, What type of feature it is ?"
   ]
  },
  {
   "cell_type": "markdown",
   "metadata": {},
   "source": [
    "Gene is a categorical variable "
   ]
  },
  {
   "cell_type": "markdown",
   "metadata": {},
   "source": [
    "#### Q2. How many categories are there and How they are distributed?"
   ]
  },
  {
   "cell_type": "code",
   "execution_count": 79,
   "metadata": {},
   "outputs": [
    {
     "name": "stdout",
     "output_type": "stream",
     "text": [
      "Number of Unique Genes : 233\n",
      "BRCA1     172\n",
      "TP53      105\n",
      "EGFR       89\n",
      "BRCA2      77\n",
      "PTEN       75\n",
      "KIT        62\n",
      "BRAF       56\n",
      "ALK        42\n",
      "PIK3CA     41\n",
      "PDGFRA     40\n",
      "Name: Gene, dtype: int64\n"
     ]
    }
   ],
   "source": [
    "unique_genes = train_df['Gene'].value_counts()\n",
    "print('Number of Unique Genes :', unique_genes.shape[0])\n",
    "# the top 10 genes that occured most\n",
    "print(unique_genes.head(10))"
   ]
  },
  {
   "cell_type": "code",
   "execution_count": 80,
   "metadata": {},
   "outputs": [
    {
     "name": "stdout",
     "output_type": "stream",
     "text": [
      "Ans: There are 233 different categories of genes in the train data, and they are distibuted as follows\n"
     ]
    }
   ],
   "source": [
    "print(\"Ans: There are\", unique_genes.shape[0] ,\"different categories of genes in the train data, and they are distibuted as follows\",)"
   ]
  },
  {
   "cell_type": "code",
   "execution_count": 81,
   "metadata": {},
   "outputs": [
    {
     "data": {
      "image/png": "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\n",
      "text/plain": [
       "<Figure size 432x288 with 1 Axes>"
      ]
     },
     "metadata": {
      "needs_background": "light"
     },
     "output_type": "display_data"
    }
   ],
   "source": [
    "s = sum(unique_genes.values)\n",
    "h = unique_genes.values/s\n",
    "plt.plot(h, label='Histogram of Genes')\n",
    "plt.xlabel('Index of a Gene')\n",
    "plt.ylabel('Number of Occurence')\n",
    "plt.legend()\n",
    "plt.grid()\n",
    "plt.show()"
   ]
  },
  {
   "cell_type": "markdown",
   "metadata": {},
   "source": [
    "##### Takeaways-\n",
    "This skewed distribution tells that very few genes occur very often and lots of genes occur few times"
   ]
  },
  {
   "cell_type": "code",
   "execution_count": 82,
   "metadata": {},
   "outputs": [
    {
     "data": {
      "image/png": "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\n",
      "text/plain": [
       "<Figure size 432x288 with 1 Axes>"
      ]
     },
     "metadata": {
      "needs_background": "light"
     },
     "output_type": "display_data"
    }
   ],
   "source": [
    "c = np.cumsum(h)\n",
    "plt.plot(c,label='Cumulative distribution of Genes')\n",
    "plt.grid()\n",
    "plt.legend()\n",
    "plt.show()"
   ]
  },
  {
   "cell_type": "markdown",
   "metadata": {},
   "source": [
    "##### Takeaways-\n",
    "Top 50 Genes contribute to 75% of the Genes"
   ]
  },
  {
   "cell_type": "markdown",
   "metadata": {},
   "source": [
    "#### Q3. How to featurize this Gene feature ?"
   ]
  },
  {
   "cell_type": "markdown",
   "metadata": {},
   "source": [
    "There are two ways we can featurize this variable-\n",
    "1. One hot encoding (Better to use in Logistic and Linear Regression, Support Vector Machines)\n",
    "2. Response Coding (Better in Naive Bayes, Random Forest)"
   ]
  },
  {
   "cell_type": "markdown",
   "metadata": {},
   "source": [
    "##### Response Coding of Gene Feature"
   ]
  },
  {
   "cell_type": "code",
   "execution_count": 83,
   "metadata": {},
   "outputs": [],
   "source": [
    "# Response Coding of Gene Feature\n",
    "# Alpha is used for Laplace Smoothing as in Naive Bayes (Because the probabilistic values are sometimes very low)\n",
    "alpha = 1\n",
    "\n",
    "# train gene feature\n",
    "train_gene_feature_responseCoding = np.array(get_gv_feature(alpha, \"Gene\", train_df))\n",
    "# test gene feature\n",
    "test_gene_feature_responseCoding = np.array(get_gv_feature(alpha, \"Gene\", test_df))\n",
    "# cross validation gene feature\n",
    "cv_gene_feature_responseCoding = np.array(get_gv_feature(alpha, \"Gene\", cv_df))"
   ]
  },
  {
   "cell_type": "code",
   "execution_count": 84,
   "metadata": {},
   "outputs": [
    {
     "name": "stdout",
     "output_type": "stream",
     "text": [
      "train_gene_feature_responseCoding is converted feature using respone coding method. The shape of gene feature: (2124, 9)\n"
     ]
    }
   ],
   "source": [
    "print(\"train_gene_feature_responseCoding is converted feature using respone coding method. The shape of gene feature:\", train_gene_feature_responseCoding.shape)"
   ]
  },
  {
   "cell_type": "markdown",
   "metadata": {},
   "source": [
    "##### One-Hot encoding of Gene feature"
   ]
  },
  {
   "cell_type": "code",
   "execution_count": 85,
   "metadata": {},
   "outputs": [],
   "source": [
    "from sklearn.feature_extraction.text import CountVectorizer\n",
    "\n",
    "gene_vectorizer = CountVectorizer()\n",
    "train_gene_feature_onehotCoding = gene_vectorizer.fit_transform(train_df['Gene'])\n",
    "test_gene_feature_onehotCoding = gene_vectorizer.transform(test_df['Gene'])\n",
    "cv_gene_feature_onehotCoding = gene_vectorizer.transform(cv_df['Gene'])"
   ]
  },
  {
   "cell_type": "code",
   "execution_count": 86,
   "metadata": {},
   "outputs": [
    {
     "data": {
      "text/plain": [
       "1282     HRAS\n",
       "585     SMAD4\n",
       "1612      VHL\n",
       "830     ERCC3\n",
       "428      TP53\n",
       "Name: Gene, dtype: object"
      ]
     },
     "execution_count": 86,
     "metadata": {},
     "output_type": "execute_result"
    }
   ],
   "source": [
    "train_df['Gene'].head()"
   ]
  },
  {
   "cell_type": "code",
   "execution_count": 87,
   "metadata": {},
   "outputs": [
    {
     "data": {
      "text/plain": [
       "['abl1',\n",
       " 'acvr1',\n",
       " 'ago2',\n",
       " 'akt1',\n",
       " 'akt2',\n",
       " 'akt3',\n",
       " 'alk',\n",
       " 'apc',\n",
       " 'ar',\n",
       " 'araf',\n",
       " 'arid1b',\n",
       " 'arid2',\n",
       " 'asxl1',\n",
       " 'atm',\n",
       " 'atr',\n",
       " 'atrx',\n",
       " 'aurka',\n",
       " 'axin1',\n",
       " 'axl',\n",
       " 'b2m',\n",
       " 'bap1',\n",
       " 'bcl10',\n",
       " 'bcl2',\n",
       " 'bcl2l11',\n",
       " 'bcor',\n",
       " 'braf',\n",
       " 'brca1',\n",
       " 'brca2',\n",
       " 'brd4',\n",
       " 'brip1',\n",
       " 'btk',\n",
       " 'card11',\n",
       " 'carm1',\n",
       " 'casp8',\n",
       " 'cbl',\n",
       " 'ccnd1',\n",
       " 'ccnd2',\n",
       " 'ccnd3',\n",
       " 'ccne1',\n",
       " 'cdh1',\n",
       " 'cdk12',\n",
       " 'cdk4',\n",
       " 'cdk8',\n",
       " 'cdkn1a',\n",
       " 'cdkn1b',\n",
       " 'cdkn2a',\n",
       " 'cdkn2b',\n",
       " 'cdkn2c',\n",
       " 'cebpa',\n",
       " 'chek2',\n",
       " 'cic',\n",
       " 'crebbp',\n",
       " 'ctcf',\n",
       " 'ctnnb1',\n",
       " 'ddr2',\n",
       " 'dicer1',\n",
       " 'dnmt3a',\n",
       " 'dnmt3b',\n",
       " 'dusp4',\n",
       " 'egfr',\n",
       " 'eif1ax',\n",
       " 'elf3',\n",
       " 'ep300',\n",
       " 'epas1',\n",
       " 'epcam',\n",
       " 'erbb2',\n",
       " 'erbb3',\n",
       " 'erbb4',\n",
       " 'ercc2',\n",
       " 'ercc3',\n",
       " 'ercc4',\n",
       " 'erg',\n",
       " 'esr1',\n",
       " 'etv1',\n",
       " 'etv6',\n",
       " 'ewsr1',\n",
       " 'ezh2',\n",
       " 'fam58a',\n",
       " 'fanca',\n",
       " 'fancc',\n",
       " 'fat1',\n",
       " 'fbxw7',\n",
       " 'fgf19',\n",
       " 'fgf3',\n",
       " 'fgf4',\n",
       " 'fgfr1',\n",
       " 'fgfr2',\n",
       " 'fgfr3',\n",
       " 'fgfr4',\n",
       " 'flt1',\n",
       " 'flt3',\n",
       " 'foxa1',\n",
       " 'foxl2',\n",
       " 'foxp1',\n",
       " 'gata3',\n",
       " 'gnaq',\n",
       " 'gnas',\n",
       " 'h3f3a',\n",
       " 'hla',\n",
       " 'hnf1a',\n",
       " 'hras',\n",
       " 'idh1',\n",
       " 'idh2',\n",
       " 'igf1r',\n",
       " 'ikbke',\n",
       " 'inpp4b',\n",
       " 'jak1',\n",
       " 'jak2',\n",
       " 'kdm5a',\n",
       " 'kdm5c',\n",
       " 'kdm6a',\n",
       " 'kdr',\n",
       " 'keap1',\n",
       " 'kit',\n",
       " 'kmt2a',\n",
       " 'kmt2c',\n",
       " 'kmt2d',\n",
       " 'knstrn',\n",
       " 'kras',\n",
       " 'map2k1',\n",
       " 'map2k2',\n",
       " 'map2k4',\n",
       " 'map3k1',\n",
       " 'mdm4',\n",
       " 'med12',\n",
       " 'mef2b',\n",
       " 'men1',\n",
       " 'met',\n",
       " 'mga',\n",
       " 'mlh1',\n",
       " 'mpl',\n",
       " 'msh2',\n",
       " 'msh6',\n",
       " 'mtor',\n",
       " 'myc',\n",
       " 'mycn',\n",
       " 'myd88',\n",
       " 'myod1',\n",
       " 'ncor1',\n",
       " 'nf1',\n",
       " 'nf2',\n",
       " 'nfe2l2',\n",
       " 'nfkbia',\n",
       " 'nkx2',\n",
       " 'notch1',\n",
       " 'notch2',\n",
       " 'npm1',\n",
       " 'nras',\n",
       " 'nsd1',\n",
       " 'ntrk1',\n",
       " 'ntrk2',\n",
       " 'ntrk3',\n",
       " 'nup93',\n",
       " 'pak1',\n",
       " 'pax8',\n",
       " 'pbrm1',\n",
       " 'pdgfra',\n",
       " 'pdgfrb',\n",
       " 'pik3ca',\n",
       " 'pik3cb',\n",
       " 'pik3cd',\n",
       " 'pik3r1',\n",
       " 'pik3r2',\n",
       " 'pik3r3',\n",
       " 'pim1',\n",
       " 'pms1',\n",
       " 'pms2',\n",
       " 'pole',\n",
       " 'ppm1d',\n",
       " 'ppp2r1a',\n",
       " 'ppp6c',\n",
       " 'prdm1',\n",
       " 'ptch1',\n",
       " 'pten',\n",
       " 'ptpn11',\n",
       " 'ptprd',\n",
       " 'ptprt',\n",
       " 'rab35',\n",
       " 'rac1',\n",
       " 'rad21',\n",
       " 'rad50',\n",
       " 'rad51c',\n",
       " 'rad51d',\n",
       " 'raf1',\n",
       " 'rasa1',\n",
       " 'rb1',\n",
       " 'rbm10',\n",
       " 'ret',\n",
       " 'rheb',\n",
       " 'rhoa',\n",
       " 'rictor',\n",
       " 'rit1',\n",
       " 'ros1',\n",
       " 'rras2',\n",
       " 'runx1',\n",
       " 'rxra',\n",
       " 'rybp',\n",
       " 'sdhc',\n",
       " 'setd2',\n",
       " 'sf3b1',\n",
       " 'shq1',\n",
       " 'smad2',\n",
       " 'smad3',\n",
       " 'smad4',\n",
       " 'smarca4',\n",
       " 'smarcb1',\n",
       " 'smo',\n",
       " 'sos1',\n",
       " 'sox9',\n",
       " 'spop',\n",
       " 'srsf2',\n",
       " 'stag2',\n",
       " 'stat3',\n",
       " 'stk11',\n",
       " 'tcf3',\n",
       " 'tcf7l2',\n",
       " 'tert',\n",
       " 'tet1',\n",
       " 'tet2',\n",
       " 'tgfbr1',\n",
       " 'tgfbr2',\n",
       " 'tmprss2',\n",
       " 'tp53',\n",
       " 'tsc1',\n",
       " 'tsc2',\n",
       " 'u2af1',\n",
       " 'vegfa',\n",
       " 'vhl',\n",
       " 'whsc1l1',\n",
       " 'xpo1',\n",
       " 'xrcc2',\n",
       " 'yap1']"
      ]
     },
     "execution_count": 87,
     "metadata": {},
     "output_type": "execute_result"
    }
   ],
   "source": [
    "gene_vectorizer.get_feature_names()"
   ]
  },
  {
   "cell_type": "code",
   "execution_count": 88,
   "metadata": {},
   "outputs": [
    {
     "name": "stdout",
     "output_type": "stream",
     "text": [
      "train_gene_feature_onehotCoding is converted feature using one-hot encoding method. The shape of gene feature: (2124, 232)\n"
     ]
    }
   ],
   "source": [
    "print(\"train_gene_feature_onehotCoding is converted feature using one-hot encoding method. The shape of gene feature:\", train_gene_feature_onehotCoding.shape)"
   ]
  }
